{
  "nbformat": 4,
  "nbformat_minor": 0,
  "metadata": {
    "colab": {
      "provenance": []
    },
    "kernelspec": {
      "name": "python3",
      "display_name": "Python 3"
    },
    "language_info": {
      "name": "python"
    }
  },
  "cells": [
    {
      "cell_type": "code",
      "source": [
        "# Reading the dataset\n",
        "# Get the current working directory (cwd)\n",
        "cwd = os.getcwd()\n",
        "# Get all the files in that directory\n",
        "files = os.listdir(cwd)\n",
        "print(\"Files in %r: %s\" % (cwd, files))\n",
        "\n",
        "#Reading the GLOBAL TEMPERATURE BY CITY CSV\n",
        "data = pd.read_csv(\"/content/GlobalLandTemperaturesByCity.csv.zip\")\n",
        "data"
      ],
      "metadata": {
        "colab": {
          "base_uri": "https://localhost:8080/",
          "height": 220
        },
        "id": "kMMpAiPXlWtO",
        "outputId": "74f821d6-a186-48e7-8d86-31324b22a6df"
      },
      "execution_count": null,
      "outputs": [
        {
          "output_type": "error",
          "ename": "NameError",
          "evalue": "name 'os' is not defined",
          "traceback": [
            "\u001b[0;31m---------------------------------------------------------------------------\u001b[0m",
            "\u001b[0;31mNameError\u001b[0m                                 Traceback (most recent call last)",
            "\u001b[0;32m<ipython-input-3-6c973f289cf5>\u001b[0m in \u001b[0;36m<cell line: 3>\u001b[0;34m()\u001b[0m\n\u001b[1;32m      1\u001b[0m \u001b[0;31m# Reading the dataset\u001b[0m\u001b[0;34m\u001b[0m\u001b[0;34m\u001b[0m\u001b[0m\n\u001b[1;32m      2\u001b[0m \u001b[0;31m# Get the current working directory (cwd)\u001b[0m\u001b[0;34m\u001b[0m\u001b[0;34m\u001b[0m\u001b[0m\n\u001b[0;32m----> 3\u001b[0;31m \u001b[0mcwd\u001b[0m \u001b[0;34m=\u001b[0m \u001b[0mos\u001b[0m\u001b[0;34m.\u001b[0m\u001b[0mgetcwd\u001b[0m\u001b[0;34m(\u001b[0m\u001b[0;34m)\u001b[0m\u001b[0;34m\u001b[0m\u001b[0;34m\u001b[0m\u001b[0m\n\u001b[0m\u001b[1;32m      4\u001b[0m \u001b[0;31m# Get all the files in that directory\u001b[0m\u001b[0;34m\u001b[0m\u001b[0;34m\u001b[0m\u001b[0m\n\u001b[1;32m      5\u001b[0m \u001b[0mfiles\u001b[0m \u001b[0;34m=\u001b[0m \u001b[0mos\u001b[0m\u001b[0;34m.\u001b[0m\u001b[0mlistdir\u001b[0m\u001b[0;34m(\u001b[0m\u001b[0mcwd\u001b[0m\u001b[0;34m)\u001b[0m\u001b[0;34m\u001b[0m\u001b[0;34m\u001b[0m\u001b[0m\n",
            "\u001b[0;31mNameError\u001b[0m: name 'os' is not defined"
          ]
        }
      ]
    },
    {
      "source": [
        "# Reading the dataset\n",
        "# Import the os module\n",
        "import os\n",
        "# Get the current working directory (cwd)\n",
        "cwd = os.getcwd()\n",
        "# Get all the files in that directory\n",
        "files = os.listdir(cwd)\n",
        "print(\"Files in %r: %s\" % (cwd, files))\n",
        "\n",
        "# Import the pandas module\n",
        "import pandas as pd\n",
        "#Reading the GLOBAL TEMPERATURE BY CITY CSV\n",
        "data = pd.read_csv(\"/content/GlobalLandTemperaturesByCity.csv.zip\")\n",
        "data"
      ],
      "cell_type": "code",
      "metadata": {
        "id": "sQqCf13vexHp"
      },
      "execution_count": null,
      "outputs": []
    },
    {
      "cell_type": "code",
      "execution_count": null,
      "metadata": {
        "id": "dYaM-RCdk5wV"
      },
      "outputs": [],
      "source": [
        "import pandas as pd\n",
        "import numpy as np\n",
        "import os\n",
        "import matplotlib.pyplot as plt\n",
        "import seaborn as sns\n",
        "import sys"
      ]
    },
    {
      "cell_type": "code",
      "source": [
        "# Gives the Basic Structure of the Data Frame such as Data type and Col names.\n",
        "data.info()\n",
        "\n",
        "# Show the basic Statistical Values of the data such as Mean, Count, StD, Min and Quartiles\n",
        "data.describe()\n",
        "\n",
        "# Shape of the dataset\n",
        "data.shape\n",
        "\n",
        "# Names of the Column\n",
        "data.columns\n",
        "\n",
        "# First 5 Records in the dataset\n",
        "data.head()\n",
        "\n",
        "# Last 5 Records in the dataset\n",
        "data.tail()\n",
        "\n",
        "# Here we can see the unique values exist in each column\n",
        "data.nunique()\n",
        "\n",
        "# Shows the number of Null values in each column\n",
        "data.isnull().sum()"
      ],
      "metadata": {
        "id": "s3bz81TPljfc"
      },
      "execution_count": null,
      "outputs": []
    },
    {
      "cell_type": "code",
      "source": [
        "# Dropping all null values\n",
        "data = data.dropna(how='any' ,axis=0)\n",
        "data.shape"
      ],
      "metadata": {
        "id": "-VHx4WCWmkVl"
      },
      "execution_count": null,
      "outputs": []
    },
    {
      "cell_type": "code",
      "source": [
        "# Converting Dt into Date\n",
        "data['Date'] = pd.to_datetime(data['Date'])\n",
        "# Setting the Index\n",
        "data.set_index('Date',inplace = True)\n",
        "data.index"
      ],
      "metadata": {
        "id": "iwW5W18YnotM"
      },
      "execution_count": null,
      "outputs": []
    },
    {
      "cell_type": "code",
      "source": [
        "# Now we use year as index\n",
        "data['Year']= data.index.year\n",
        "data.head()"
      ],
      "metadata": {
        "id": "g23Ykue1nwGM"
      },
      "execution_count": null,
      "outputs": []
    },
    {
      "cell_type": "code",
      "source": [
        "delhi = data.loc[data['City'] == ('New Delhi' or \"Delhi\"), ['Date','AverageTemperature']]\n",
        "delhi.columns = ['Date','Temp']\n",
        "\n",
        "delhi['Date'] = pd.to_datetime(delhi['Date'])\n",
        "delhi.reset_index(drop=True, inplace=True)\n",
        "delhi.set_index('Date', inplace=True)\n",
        "delhi"
      ],
      "metadata": {
        "id": "ASU_D9vqnzyP",
        "colab": {
          "base_uri": "https://localhost:8080/",
          "height": 220
        },
        "outputId": "874626da-e3e7-4fd8-f024-9369bede5a25"
      },
      "execution_count": null,
      "outputs": [
        {
          "output_type": "error",
          "ename": "NameError",
          "evalue": "name 'data' is not defined",
          "traceback": [
            "\u001b[0;31m---------------------------------------------------------------------------\u001b[0m",
            "\u001b[0;31mNameError\u001b[0m                                 Traceback (most recent call last)",
            "\u001b[0;32m<ipython-input-2-9c4f95d54d6b>\u001b[0m in \u001b[0;36m<cell line: 1>\u001b[0;34m()\u001b[0m\n\u001b[0;32m----> 1\u001b[0;31m \u001b[0mdelhi\u001b[0m \u001b[0;34m=\u001b[0m \u001b[0mdata\u001b[0m\u001b[0;34m.\u001b[0m\u001b[0mloc\u001b[0m\u001b[0;34m[\u001b[0m\u001b[0mdata\u001b[0m\u001b[0;34m[\u001b[0m\u001b[0;34m'City'\u001b[0m\u001b[0;34m]\u001b[0m \u001b[0;34m==\u001b[0m \u001b[0;34m(\u001b[0m\u001b[0;34m'New Delhi'\u001b[0m \u001b[0;32mor\u001b[0m \u001b[0;34m\"Delhi\"\u001b[0m\u001b[0;34m)\u001b[0m\u001b[0;34m,\u001b[0m \u001b[0;34m[\u001b[0m\u001b[0;34m'Date'\u001b[0m\u001b[0;34m,\u001b[0m\u001b[0;34m'AverageTemperature'\u001b[0m\u001b[0;34m]\u001b[0m\u001b[0;34m]\u001b[0m\u001b[0;34m\u001b[0m\u001b[0;34m\u001b[0m\u001b[0m\n\u001b[0m\u001b[1;32m      2\u001b[0m \u001b[0mdelhi\u001b[0m\u001b[0;34m.\u001b[0m\u001b[0mcolumns\u001b[0m \u001b[0;34m=\u001b[0m \u001b[0;34m[\u001b[0m\u001b[0;34m'Date'\u001b[0m\u001b[0;34m,\u001b[0m\u001b[0;34m'Temp'\u001b[0m\u001b[0;34m]\u001b[0m\u001b[0;34m\u001b[0m\u001b[0;34m\u001b[0m\u001b[0m\n\u001b[1;32m      3\u001b[0m \u001b[0;34m\u001b[0m\u001b[0m\n\u001b[1;32m      4\u001b[0m \u001b[0mdelhi\u001b[0m\u001b[0;34m[\u001b[0m\u001b[0;34m'Date'\u001b[0m\u001b[0;34m]\u001b[0m \u001b[0;34m=\u001b[0m \u001b[0mpd\u001b[0m\u001b[0;34m.\u001b[0m\u001b[0mto_datetime\u001b[0m\u001b[0;34m(\u001b[0m\u001b[0mdelhi\u001b[0m\u001b[0;34m[\u001b[0m\u001b[0;34m'Date'\u001b[0m\u001b[0;34m]\u001b[0m\u001b[0;34m)\u001b[0m\u001b[0;34m\u001b[0m\u001b[0;34m\u001b[0m\u001b[0m\n\u001b[1;32m      5\u001b[0m \u001b[0mdelhi\u001b[0m\u001b[0;34m.\u001b[0m\u001b[0mreset_index\u001b[0m\u001b[0;34m(\u001b[0m\u001b[0mdrop\u001b[0m\u001b[0;34m=\u001b[0m\u001b[0;32mTrue\u001b[0m\u001b[0;34m,\u001b[0m \u001b[0minplace\u001b[0m\u001b[0;34m=\u001b[0m\u001b[0;32mTrue\u001b[0m\u001b[0;34m)\u001b[0m\u001b[0;34m\u001b[0m\u001b[0;34m\u001b[0m\u001b[0m\n",
            "\u001b[0;31mNameError\u001b[0m: name 'data' is not defined"
          ]
        }
      ]
    },
    {
      "cell_type": "code",
      "source": [
        "plt.figure(figsize=(22,6))\n",
        "sns.lineplot(x=delhi.index, y=delhi['Temp'])\n",
        "plt.title('Temperature Variation in Delhi from 1980 until 2013')\n",
        "plt.xlabel(\"Date\",fontsize=14)\n",
        "plt.ylabel(\"Temperature in C'\",fontsize=14)\n",
        "plt.legend()\n",
        "plt.savefig(f\"./DataViz/Delhi/1980-2013Temp.jpeg\") # To Save the Plot as an JPEG Image\n",
        "plt.show()"
      ],
      "metadata": {
        "id": "z6asP75Dn6gE"
      },
      "execution_count": null,
      "outputs": []
    },
    {
      "cell_type": "code",
      "source": [
        "pivot = pd.pivot_table(delhi, values='Temp', index='Month', columns='Year', aggfunc='mean')\n",
        "pivot.plot(figsize=(20,6),colormap=\"coolwarm\")\n",
        "plt.title('Yearly Delhi temperatures')\n",
        "plt.xlabel('Months')\n",
        "plt.ylabel('Temperatures')\n",
        "\n",
        "plt.xticks([x for x in range(1,13)])\n",
        "plt.legend().remove()\n",
        "plt.savefig(f\"./DataViz/Delhi/TemperatureChangeDelhi.png\")\n",
        "plt.show()"
      ],
      "metadata": {
        "id": "ez0Ciufln-ef"
      },
      "execution_count": null,
      "outputs": []
    },
    {
      "cell_type": "code",
      "source": [
        "\n",
        "monthly_seasonality = pivot.mean(axis=1)\n",
        "monthly_seasonality.plot(figsize=(20,6))\n",
        "plt.title('Monthly Temperatures in Delhi')\n",
        "plt.xlabel('Months',fontsize=14)\n",
        "plt.ylabel('Temperature',fontsize=14)\n",
        "plt.xticks([x for x in range(1,13)])\n",
        "plt.savefig(f\"./DataViz/Delhi/AvgTempChangeMonth.png\")\n",
        "plt.show()"
      ],
      "metadata": {
        "id": "XIO75Ye1oEOJ"
      },
      "execution_count": null,
      "outputs": []
    },
    {
      "cell_type": "code",
      "source": [
        "\n",
        "year_avg = pd.pivot_table(delhi, values='Temp', index='Year', aggfunc='mean')\n",
        "# The rolling mean of Temp in last 10 years\n",
        "# Rolling mean window is 3\n",
        "year_avg['10 Years MA'] = year_avg['Temp'].rolling(3).mean()\n",
        "year_avg[['Temp','10 Years MA']].plot(kind=\"line\",\n",
        "                                      figsize=(20,6),\n",
        "                                      colormap=\"cool\",\n",
        "                                      marker='o',)\n",
        "\n",
        "plt.title('Yearly AVG Temperatures in Delhi')\n",
        "plt.xlabel('Years')\n",
        "plt.ylabel('Temperature')\n",
        "plt.xticks([x for x in range(1980,2012,2)])\n",
        "\n",
        "plt.savefig(f\"./DataViz/Delhi/TempChangeVsRollingMean.png\")\n",
        "plt.show()"
      ],
      "metadata": {
        "id": "bl3JFlBJoFIH"
      },
      "execution_count": null,
      "outputs": []
    },
    {
      "cell_type": "code",
      "source": [
        "# Train Size is 200\n",
        "df_train = delhi[-300:]\n",
        "# Val size is 100\n",
        "df_val = delhi[200:300]\n",
        "# Test Size is 100\n",
        "df_test = delhi[:-200]"
      ],
      "metadata": {
        "id": "-UmMm3bmoL1G"
      },
      "execution_count": null,
      "outputs": []
    },
    {
      "cell_type": "code",
      "source": [
        "from statsmodels.tsa.stattools import adfuller\n",
        "\n",
        "print('Augmented Ducky Fuller Test Results')\n",
        "\n",
        "test_data = adfuller(df_train.iloc[:,0].values,autolag='AIC')\n",
        "\n",
        "data_output = pd.Series(test_data[0:4],index=['Test Statistic','p-value','Lags Used','Number of Observation Used'])\n",
        "\n",
        "for key,value in test_data[4].items():\n",
        "\n",
        "    data_output['Critical value (%s)'%key] = value\n",
        "\n",
        "print(data_output)"
      ],
      "metadata": {
        "id": "2TCfzf2hoQTC"
      },
      "execution_count": null,
      "outputs": []
    },
    {
      "cell_type": "code",
      "source": [
        "import math\n",
        "def check_stationarity(y, lags_plots=48, figsize=(22,8)):\n",
        "\n",
        "    # Creating plots of the DF\n",
        "    y = pd.Series(y)\n",
        "    fig = plt.figure()\n",
        "\n",
        "    ax1 = plt.subplot2grid((3, 3), (0, 0), colspan=2)\n",
        "    ax2 = plt.subplot2grid((3, 3), (1, 0))\n",
        "    ax3 = plt.subplot2grid((3, 3), (1, 1))\n",
        "    ax4 = plt.subplot2grid((3, 3), (2, 0), colspan=2)\n",
        "\n",
        "    y.plot(ax=ax1, figsize=figsize)\n",
        "\n",
        "    ax1.set_title('Delhi Temperature Variation')\n",
        "    plot_acf(y, lags=lags_plots, zero=False, ax=ax2);\n",
        "    plot_pacf(y, lags=lags_plots, zero=False, ax=ax3);\n",
        "    sns.distplot(y, bins=int(sqrt(len(y))), ax=ax4)\n",
        "    ax4.set_title('Distribution Chart')\n",
        "\n",
        "    plt.tight_layout()\n",
        "\n",
        "    plt.savefig(f\"./DataViz/Delhi/AdfullerTest.png\")\n",
        "\n",
        "    print('Results of Dickey-Fuller Test:')\n",
        "    adfinput = adfuller(y)\n",
        "    adftest = pd.Series(adfinput[0:4], index=['Test Statistic','p-value','Lags Used','Number of Observations Used'])\n",
        "    adftest = round(adftest,4)\n",
        "\n",
        "    for key, value in adfinput[4].items():\n",
        "        adftest[\"Critical Value (%s)\"%key] = value.round(4)\n",
        "\n",
        "    print(adftest)\n",
        "\n",
        "    if adftest[0].round(2) < adftest[5].round(2):\n",
        "        print('\\nThe Test Statistics is lower than the Critical Value of 5%.\\nThe serie seems to be stationary')\n",
        "    else:\n",
        "        print(\"\\nThe Test Statistics is higher than the Critical Value of 5%.\\nThe serie isn't stationary\")\n",
        "\n",
        "# The first approach is to check the series without any transformation\n",
        "check_stationarity(df_train[\"Temp\"])\n"
      ],
      "metadata": {
        "id": "8Wamy-ipoRQ2",
        "colab": {
          "base_uri": "https://localhost:8080/",
          "height": 183
        },
        "outputId": "3ad46126-e169-48bd-b430-90778ab04b81"
      },
      "execution_count": null,
      "outputs": [
        {
          "output_type": "error",
          "ename": "NameError",
          "evalue": "name 'df_train' is not defined",
          "traceback": [
            "\u001b[0;31m---------------------------------------------------------------------------\u001b[0m",
            "\u001b[0;31mNameError\u001b[0m                                 Traceback (most recent call last)",
            "\u001b[0;32m<ipython-input-4-e3830c37f60f>\u001b[0m in \u001b[0;36m<cell line: 41>\u001b[0;34m()\u001b[0m\n\u001b[1;32m     39\u001b[0m \u001b[0;34m\u001b[0m\u001b[0m\n\u001b[1;32m     40\u001b[0m \u001b[0;31m# The first approach is to check the series without any transformation\u001b[0m\u001b[0;34m\u001b[0m\u001b[0;34m\u001b[0m\u001b[0m\n\u001b[0;32m---> 41\u001b[0;31m \u001b[0mcheck_stationarity\u001b[0m\u001b[0;34m(\u001b[0m\u001b[0mdf_train\u001b[0m\u001b[0;34m[\u001b[0m\u001b[0;34m\"Temp\"\u001b[0m\u001b[0;34m]\u001b[0m\u001b[0;34m)\u001b[0m\u001b[0;34m\u001b[0m\u001b[0;34m\u001b[0m\u001b[0m\n\u001b[0m",
            "\u001b[0;31mNameError\u001b[0m: name 'df_train' is not defined"
          ]
        }
      ]
    },
    {
      "cell_type": "code",
      "source": [
        "#Now we break the data into sub section\n",
        "from statsmodels.tsa.seasonal import seasonal_decompose\n",
        "\n",
        "decomp= seasonal_decompose(df_train[\"Temp\"],period=3)\n",
        "trend = decomp.trend\n",
        "seasonal = decomp.seasonal\n",
        "residual = decomp.resid\n",
        "\n",
        "plt.subplot(411)\n",
        "plt.figure(figsize=(20,8))\n",
        "plt.plot(df_train[\"Temp\"],'r-')\n",
        "plt.xlabel('Original')\n",
        "plt.figure(figsize=(20,8))\n",
        "\n",
        "plt.subplot(412)\n",
        "plt.plot(trend,'k-')\n",
        "plt.xlabel('Trend')\n",
        "plt.figure(figsize=(20,8))\n",
        "\n",
        "plt.subplot(413)\n",
        "plt.plot(seasonal,'g-')\n",
        "plt.xlabel('Seasonal')\n",
        "plt.figure(figsize=(20,8))\n",
        "\n",
        "plt.subplot(414)\n",
        "plt.plot(residual,'y-')\n",
        "plt.xlabel('Residual')\n",
        "plt.figure(figsize=(20,8))\n",
        "\n",
        "plt.tight_layout()"
      ],
      "metadata": {
        "id": "lApoyP25oVkk"
      },
      "execution_count": null,
      "outputs": []
    },
    {
      "cell_type": "code",
      "source": [
        "check_stationarity(df_train['Temp'].diff(12).dropna())"
      ],
      "metadata": {
        "id": "0jAnOaI9ocAd"
      },
      "execution_count": null,
      "outputs": []
    },
    {
      "cell_type": "code",
      "source": [
        "Interactive Tableau Dashboard\n",
        "You can access the Tableau Dashboard to learn more about the pattern and trends in the Dataset in more interactive and fun manner.\n",
        "\n",
        "https://public.tableau.com/views/ClimateChangeAnalysisDashboardDA2/Dashboard1?:language=en-US&:display_count=n&:origin=viz_share_link"
      ],
      "metadata": {
        "id": "sN-zLqDfpmAs"
      },
      "execution_count": null,
      "outputs": []
    }
  ]
}